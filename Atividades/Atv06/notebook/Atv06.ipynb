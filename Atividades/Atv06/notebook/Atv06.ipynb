{
 "cells": [
  {
   "cell_type": "markdown",
   "id": "68af471b-2729-42db-900e-3455f8c3e760",
   "metadata": {},
   "source": [
    "## Atv06"
   ]
  },
  {
   "cell_type": "markdown",
   "id": "37d78c78-a46d-4c42-97b9-b985c0834b1c",
   "metadata": {},
   "source": [
    "Dados os valores de um depósito fixo mensal e um montante desejado, exiba abaixo o trecho do código em java para determinar quantos meses serão necessários para acumular o montante desejado, considerando juros mensais de 0,5%."
   ]
  },
  {
   "cell_type": "code",
   "execution_count": null,
   "id": "6cf7a206-6753-47ee-a7d7-927ec7dfe53f",
   "metadata": {},
   "outputs": [],
   "source": []
  }
 ],
 "metadata": {
  "kernelspec": {
   "display_name": "Java",
   "language": "java",
   "name": "java"
  },
  "language_info": {
   "codemirror_mode": "java",
   "file_extension": ".jshell",
   "mimetype": "text/x-java-source",
   "name": "Java",
   "pygments_lexer": "java",
   "version": "19.0.2+7-44"
  }
 },
 "nbformat": 4,
 "nbformat_minor": 5
}
