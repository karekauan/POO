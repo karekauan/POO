{
 "cells": [
  {
   "cell_type": "markdown",
   "id": "a2c2cfcc-91c6-4294-9054-6fd3845a2514",
   "metadata": {},
   "source": [
    "# Atv04"
   ]
  },
  {
   "cell_type": "markdown",
   "id": "e12a6d48-a97f-4071-b48f-38c437269052",
   "metadata": {},
   "source": [
    "1 - Declare uma variável do tipo real chamada gastosJaneiro e inicialize-a com o valor gasto no mês de janeiro, declare também as variáveis gastosFevereiro e gastosMarco, inicializando-as com os respectivos gastos, utilize uma linha para cada declaração;\n",
    "\n",
    "2 - Crie uma variável chamada gastosTrimestre e inicialize-a com a soma das outras variáveis."
   ]
  },
  {
   "cell_type": "code",
   "execution_count": 1,
   "id": "f05cef05-3fa4-467d-bb08-72f6c35b6a02",
   "metadata": {},
   "outputs": [],
   "source": [
    "double gastosJaneiro = 30000.00;\n",
    "double gastosFevereiro = 33030.77;\n",
    "double gastosMarco = 23899.01;\n",
    "\n",
    "double gastosTrimestre = gastosJaneiro + gastosFevereiro + gastosMarco;"
   ]
  },
  {
   "cell_type": "markdown",
   "id": "531541b9-b47f-4f2a-b4eb-41737ebd92f4",
   "metadata": {},
   "source": [
    "Exiba a variável gastosTrimestre"
   ]
  },
  {
   "cell_type": "code",
   "execution_count": 2,
   "id": "8803de69-7acd-47a6-9b25-2e56013e1219",
   "metadata": {},
   "outputs": [
    {
     "name": "stdout",
     "output_type": "stream",
     "text": [
      "Gastos do trimestre: R$86929,78\n"
     ]
    }
   ],
   "source": [
    "System.out.println(\"Gastos do trimestre: R$\" + String.format(\"%.2f\", gastosTrimestre));"
   ]
  }
 ],
 "metadata": {
  "kernelspec": {
   "display_name": "Java",
   "language": "java",
   "name": "java"
  },
  "language_info": {
   "codemirror_mode": "java",
   "file_extension": ".jshell",
   "mimetype": "text/x-java-source",
   "name": "java",
   "pygments_lexer": "java",
   "version": "11.0.18+10-post-Ubuntu-0ubuntu122.04"
  }
 },
 "nbformat": 4,
 "nbformat_minor": 5
}
