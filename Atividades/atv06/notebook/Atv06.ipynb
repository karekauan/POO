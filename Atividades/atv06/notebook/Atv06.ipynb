{
 "cells": [
  {
   "cell_type": "markdown",
   "id": "68af471b-2729-42db-900e-3455f8c3e760",
   "metadata": {},
   "source": [
    "## Atv06"
   ]
  },
  {
   "cell_type": "markdown",
   "id": "37d78c78-a46d-4c42-97b9-b985c0834b1c",
   "metadata": {},
   "source": [
    "Dados os valores de um depósito fixo mensal e um montante desejado, exiba abaixo o trecho do código em java para determinar quantos meses serão necessários para acumular o montante desejado, considerando juros mensais de 0,5%."
   ]
  },
  {
   "cell_type": "code",
   "execution_count": 4,
   "id": "6cf7a206-6753-47ee-a7d7-927ec7dfe53f",
   "metadata": {
    "vscode": {
     "languageId": "java"
    }
   },
   "outputs": [
    {
     "name": "stdout",
     "output_type": "stream",
     "text": [
      "Digite o valor do depósito mensal: R$100,00\n",
      "Digite o valor do montante desejado: R$1000,00\n",
      "Serão necessários 10 meses para acumular o montante desejado.\n"
     ]
    }
   ],
   "source": [
    "import javax.swing.JOptionPane;\n",
    "\n",
    "double depositoMensal = Double.parseDouble(JOptionPane.showInputDialog(null, \"Digite o valor do depósito mensal:\"));\n",
    "System.out.println(\"Digite o valor do depósito mensal: R$\" + String.format(\"%.2f\", depositoMensal));\n",
    "double montanteDesejado = Double.parseDouble(JOptionPane.showInputDialog(null, \"Digite o valor do montante desejado:\"));\n",
    "System.out.println(\"Digite o valor do montante desejado: R$\" + String.format(\"%.2f\", montanteDesejado));\n",
    "\n",
    "double montanteAtual = 0;\n",
    "int meses = 0;\n",
    "\n",
    "while (montanteAtual < montanteDesejado) {\n",
    "    montanteAtual += depositoMensal;\n",
    "    montanteAtual += montanteAtual * 0.005;\n",
    "    meses++;\n",
    "}\n",
    "\n",
    "System.out.println(\"Serão necessários \" + meses + \" meses para acumular o montante desejado.\");"
   ]
  }
 ],
 "metadata": {
  "kernelspec": {
   "display_name": "Java",
   "language": "java",
   "name": "java"
  },
  "language_info": {
   "codemirror_mode": "java",
   "file_extension": ".jshell",
   "mimetype": "text/x-java-source",
   "name": "Java",
   "pygments_lexer": "java",
   "version": "11.0.18+10-post-Ubuntu-0ubuntu122.04"
  }
 },
 "nbformat": 4,
 "nbformat_minor": 5
}
