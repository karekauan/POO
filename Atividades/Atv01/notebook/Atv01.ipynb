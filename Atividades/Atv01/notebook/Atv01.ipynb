{
 "cells": [
  {
   "cell_type": "markdown",
   "id": "a49e99d1-9f68-40a8-a286-903f2fd2251b",
   "metadata": {},
   "source": [
    "# Atv01"
   ]
  },
  {
   "cell_type": "markdown",
   "id": "2f43b1b3-44a5-4b52-81b9-1b57ace64201",
   "metadata": {},
   "source": [
    "Apresente a soma de todos os argumentos inteiros ou reais recebidos"
   ]
  },
  {
   "cell_type": "code",
   "execution_count": 11,
   "id": "4d1aa8ae-5b25-4e64-b302-407522e905f9",
   "metadata": {},
   "outputs": [
    {
     "name": "stdout",
     "output_type": "stream",
     "text": [
      "Digite um número: 2\n",
      "Digite um número: 2.5\n",
      "Digite um número: a\n",
      "Digite um número: 0.5\n",
      "Digite um número: \n",
      "A soma dos números digitados é: 5.0\n"
     ]
    }
   ],
   "source": [
    "import javax.swing.JOptionPane;\n",
    "\n",
    "double soma = 0;\n",
    "        String entrada = JOptionPane.showInputDialog(\"Digite um número: \");\n",
    "        System.out.println(\"Digite um número: \" + entrada);\n",
    "        while (!entrada.isEmpty()) {\n",
    "            try {\n",
    "                soma += Double.parseDouble(entrada);\n",
    "            } catch (NumberFormatException e) {\n",
    "            }\n",
    "            entrada = JOptionPane.showInputDialog(\"Digite um número: \");\n",
    "            System.out.println(\"Digite um número: \" + entrada);\n",
    "        }\n",
    "        JOptionPane.showMessageDialog(null, \"A soma dos números digitados é: \" + soma);\n",
    "        System.out.println(\"A soma dos números digitados é: \" + soma);"
   ]
  }
 ],
 "metadata": {
  "kernelspec": {
   "display_name": "Java",
   "language": "java",
   "name": "java"
  },
  "language_info": {
   "codemirror_mode": "java",
   "file_extension": ".jshell",
   "mimetype": "text/x-java-source",
   "name": "java",
   "pygments_lexer": "java",
   "version": "11.0.18+10-post-Ubuntu-0ubuntu122.04"
  },
  "toc": {
   "base_numbering": 1,
   "nav_menu": {},
   "number_sections": false,
   "sideBar": false,
   "skip_h1_title": false,
   "title_cell": "Table of Contents",
   "title_sidebar": "Contents",
   "toc_cell": false,
   "toc_position": {},
   "toc_section_display": false,
   "toc_window_display": false
  }
 },
 "nbformat": 4,
 "nbformat_minor": 5
}
